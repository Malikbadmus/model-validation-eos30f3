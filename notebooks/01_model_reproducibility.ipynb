{
 "cells": [
  {
   "cell_type": "code",
   "execution_count": 1,
   "metadata": {},
   "outputs": [],
   "source": [
    "import os\n",
    "import sys\n",
    "import pandas as pd\n",
    "# search path for modules \n",
    "sys.path.append(os.path.abspath(\"../src\"))\n",
    "DATAPATH = \"../data\"\n",
    "SRC= \"../src\"\n",
    "\n",
    "#File path\n",
    "input_file_path = os.path.join(DATAPATH, \"Raw\", \"Test_Data.csv\")\n",
    "output_file_path = os.path.join(DATAPATH, \"Processed\", \"PTest_Data.csv\")\n",
    "\n",
    "# Reading the CSV file into a pandas DataFrame\n",
    "Data = pd.read_csv(input_file_path, delimiter=',')"
   ]
  },
  {
   "cell_type": "code",
   "execution_count": 2,
   "metadata": {},
   "outputs": [
    {
     "data": {
      "text/html": [
       "<div>\n",
       "<style scoped>\n",
       "    .dataframe tbody tr th:only-of-type {\n",
       "        vertical-align: middle;\n",
       "    }\n",
       "\n",
       "    .dataframe tbody tr th {\n",
       "        vertical-align: top;\n",
       "    }\n",
       "\n",
       "    .dataframe thead th {\n",
       "        text-align: right;\n",
       "    }\n",
       "</style>\n",
       "<table border=\"1\" class=\"dataframe\">\n",
       "  <thead>\n",
       "    <tr style=\"text-align: right;\">\n",
       "      <th></th>\n",
       "      <th>smiles</th>\n",
       "      <th>X10</th>\n",
       "      <th>X20</th>\n",
       "      <th>X40</th>\n",
       "      <th>X60</th>\n",
       "      <th>X80</th>\n",
       "      <th>X100</th>\n",
       "    </tr>\n",
       "  </thead>\n",
       "  <tbody>\n",
       "    <tr>\n",
       "      <th>0</th>\n",
       "      <td>C=1([C@@H](C(=C(C)NC1C)C(OC)=O)c1cc(ccc1)[N+](...</td>\n",
       "      <td>1</td>\n",
       "      <td>1.0</td>\n",
       "      <td>1.0</td>\n",
       "      <td>1.0</td>\n",
       "      <td>1.0</td>\n",
       "      <td>1.0</td>\n",
       "    </tr>\n",
       "    <tr>\n",
       "      <th>1</th>\n",
       "      <td>C1(\\c2c(CCc3c1cccc3)cccc2)=C\\CCN(C)C</td>\n",
       "      <td>1</td>\n",
       "      <td>1.0</td>\n",
       "      <td>1.0</td>\n",
       "      <td>1.0</td>\n",
       "      <td>1.0</td>\n",
       "      <td>1.0</td>\n",
       "    </tr>\n",
       "    <tr>\n",
       "      <th>2</th>\n",
       "      <td>c1(c2c(cccc2)oc1CCCC)C(c1cc(c(OCCN(CC)CC)c(c1)...</td>\n",
       "      <td>1</td>\n",
       "      <td>1.0</td>\n",
       "      <td>1.0</td>\n",
       "      <td>1.0</td>\n",
       "      <td>1.0</td>\n",
       "      <td>1.0</td>\n",
       "    </tr>\n",
       "    <tr>\n",
       "      <th>3</th>\n",
       "      <td>[H][C@H]1CC[C@@H](C#N)C1C(=O)C3CN(C(C)c2ccc(C#...</td>\n",
       "      <td>1</td>\n",
       "      <td>1.0</td>\n",
       "      <td>1.0</td>\n",
       "      <td>1.0</td>\n",
       "      <td>1.0</td>\n",
       "      <td>1.0</td>\n",
       "    </tr>\n",
       "    <tr>\n",
       "      <th>4</th>\n",
       "      <td>[nH]1ccnc1-c2ccc(cc2)OCCCN3CCCCC3</td>\n",
       "      <td>1</td>\n",
       "      <td>1.0</td>\n",
       "      <td>1.0</td>\n",
       "      <td>1.0</td>\n",
       "      <td>1.0</td>\n",
       "      <td>1.0</td>\n",
       "    </tr>\n",
       "  </tbody>\n",
       "</table>\n",
       "</div>"
      ],
      "text/plain": [
       "                                              smiles  X10  X20  X40  X60  X80  \\\n",
       "0  C=1([C@@H](C(=C(C)NC1C)C(OC)=O)c1cc(ccc1)[N+](...    1  1.0  1.0  1.0  1.0   \n",
       "1               C1(\\c2c(CCc3c1cccc3)cccc2)=C\\CCN(C)C    1  1.0  1.0  1.0  1.0   \n",
       "2  c1(c2c(cccc2)oc1CCCC)C(c1cc(c(OCCN(CC)CC)c(c1)...    1  1.0  1.0  1.0  1.0   \n",
       "3  [H][C@H]1CC[C@@H](C#N)C1C(=O)C3CN(C(C)c2ccc(C#...    1  1.0  1.0  1.0  1.0   \n",
       "4                  [nH]1ccnc1-c2ccc(cc2)OCCCN3CCCCC3    1  1.0  1.0  1.0  1.0   \n",
       "\n",
       "   X100  \n",
       "0   1.0  \n",
       "1   1.0  \n",
       "2   1.0  \n",
       "3   1.0  \n",
       "4   1.0  "
      ]
     },
     "execution_count": 2,
     "metadata": {},
     "output_type": "execute_result"
    }
   ],
   "source": [
    "Data.head()"
   ]
  },
  {
   "cell_type": "code",
   "execution_count": 3,
   "metadata": {},
   "outputs": [
    {
     "name": "stdout",
     "output_type": "stream",
     "text": [
      "<class 'pandas.core.frame.DataFrame'>\n",
      "RangeIndex: 7889 entries, 0 to 7888\n",
      "Data columns (total 7 columns):\n",
      " #   Column  Non-Null Count  Dtype  \n",
      "---  ------  --------------  -----  \n",
      " 0   smiles  7889 non-null   object \n",
      " 1   X10     7889 non-null   int64  \n",
      " 2   X20     6548 non-null   float64\n",
      " 3   X40     5434 non-null   float64\n",
      " 4   X60     5161 non-null   float64\n",
      " 5   X80     4940 non-null   float64\n",
      " 6   X100    4831 non-null   float64\n",
      "dtypes: float64(5), int64(1), object(1)\n",
      "memory usage: 431.6+ KB\n"
     ]
    }
   ],
   "source": [
    "Data.info()"
   ]
  },
  {
   "cell_type": "code",
   "execution_count": 5,
   "metadata": {},
   "outputs": [],
   "source": [
    "new_columns = ['smiles']\n",
    "N_Data = Data.drop(columns=Data.columns.difference(new_columns)).dropna(subset=['smiles'])"
   ]
  },
  {
   "cell_type": "code",
   "execution_count": 6,
   "metadata": {},
   "outputs": [
    {
     "name": "stdout",
     "output_type": "stream",
     "text": [
      "<class 'pandas.core.frame.DataFrame'>\n",
      "RangeIndex: 7889 entries, 0 to 7888\n",
      "Data columns (total 1 columns):\n",
      " #   Column  Non-Null Count  Dtype \n",
      "---  ------  --------------  ----- \n",
      " 0   smiles  7889 non-null   object\n",
      "dtypes: object(1)\n",
      "memory usage: 61.8+ KB\n"
     ]
    }
   ],
   "source": [
    "N_Data.info()"
   ]
  },
  {
   "cell_type": "code",
   "execution_count": 7,
   "metadata": {},
   "outputs": [
    {
     "data": {
      "text/html": [
       "<div>\n",
       "<style scoped>\n",
       "    .dataframe tbody tr th:only-of-type {\n",
       "        vertical-align: middle;\n",
       "    }\n",
       "\n",
       "    .dataframe tbody tr th {\n",
       "        vertical-align: top;\n",
       "    }\n",
       "\n",
       "    .dataframe thead th {\n",
       "        text-align: right;\n",
       "    }\n",
       "</style>\n",
       "<table border=\"1\" class=\"dataframe\">\n",
       "  <thead>\n",
       "    <tr style=\"text-align: right;\">\n",
       "      <th></th>\n",
       "      <th>smiles</th>\n",
       "      <th>InChI_Key</th>\n",
       "    </tr>\n",
       "  </thead>\n",
       "  <tbody>\n",
       "    <tr>\n",
       "      <th>0</th>\n",
       "      <td>C=1([C@@H](C(=C(C)NC1C)C(OC)=O)c1cc(ccc1)[N+](...</td>\n",
       "      <td>PVHUJELLJLJGLN-MRXNPFEDSA-N</td>\n",
       "    </tr>\n",
       "    <tr>\n",
       "      <th>1</th>\n",
       "      <td>C1(\\c2c(CCc3c1cccc3)cccc2)=C\\CCN(C)C</td>\n",
       "      <td>KRMDCWKBEZIMAB-UHFFFAOYSA-N</td>\n",
       "    </tr>\n",
       "    <tr>\n",
       "      <th>2</th>\n",
       "      <td>c1(c2c(cccc2)oc1CCCC)C(c1cc(c(OCCN(CC)CC)c(c1)...</td>\n",
       "      <td>IYIKLHRQXLHMJQ-UHFFFAOYSA-N</td>\n",
       "    </tr>\n",
       "    <tr>\n",
       "      <th>3</th>\n",
       "      <td>[H][C@H]1CC[C@@H](C#N)C1C(=O)C3CN(C(C)c2ccc(C#...</td>\n",
       "      <td>JCGAMUKFIGRQFG-BMRFCAOMSA-N</td>\n",
       "    </tr>\n",
       "    <tr>\n",
       "      <th>4</th>\n",
       "      <td>[nH]1ccnc1-c2ccc(cc2)OCCCN3CCCCC3</td>\n",
       "      <td>FHBHXTHCXKMLDG-UHFFFAOYSA-N</td>\n",
       "    </tr>\n",
       "  </tbody>\n",
       "</table>\n",
       "</div>"
      ],
      "text/plain": [
       "                                              smiles  \\\n",
       "0  C=1([C@@H](C(=C(C)NC1C)C(OC)=O)c1cc(ccc1)[N+](...   \n",
       "1               C1(\\c2c(CCc3c1cccc3)cccc2)=C\\CCN(C)C   \n",
       "2  c1(c2c(cccc2)oc1CCCC)C(c1cc(c(OCCN(CC)CC)c(c1)...   \n",
       "3  [H][C@H]1CC[C@@H](C#N)C1C(=O)C3CN(C(C)c2ccc(C#...   \n",
       "4                  [nH]1ccnc1-c2ccc(cc2)OCCCN3CCCCC3   \n",
       "\n",
       "                     InChI_Key  \n",
       "0  PVHUJELLJLJGLN-MRXNPFEDSA-N  \n",
       "1  KRMDCWKBEZIMAB-UHFFFAOYSA-N  \n",
       "2  IYIKLHRQXLHMJQ-UHFFFAOYSA-N  \n",
       "3  JCGAMUKFIGRQFG-BMRFCAOMSA-N  \n",
       "4  FHBHXTHCXKMLDG-UHFFFAOYSA-N  "
      ]
     },
     "execution_count": 7,
     "metadata": {},
     "output_type": "execute_result"
    }
   ],
   "source": [
    "from processing import generate_inchi_key\n",
    "\n",
    "\n",
    "N_Data['InChI_Key'] = N_Data['smiles'].apply(generate_inchi_key)\n",
    "\n",
    "N_Data.head()"
   ]
  },
  {
   "cell_type": "code",
   "execution_count": 8,
   "metadata": {},
   "outputs": [],
   "source": [
    "N_Data.reset_index(drop=True, inplace=True)"
   ]
  },
  {
   "cell_type": "code",
   "execution_count": 9,
   "metadata": {},
   "outputs": [
    {
     "name": "stdout",
     "output_type": "stream",
     "text": [
      "<class 'pandas.core.frame.DataFrame'>\n",
      "RangeIndex: 7889 entries, 0 to 7888\n",
      "Data columns (total 2 columns):\n",
      " #   Column     Non-Null Count  Dtype \n",
      "---  ------     --------------  ----- \n",
      " 0   smiles     7889 non-null   object\n",
      " 1   InChI_Key  7889 non-null   object\n",
      "dtypes: object(2)\n",
      "memory usage: 123.4+ KB\n"
     ]
    }
   ],
   "source": [
    "N_Data.info()"
   ]
  },
  {
   "cell_type": "code",
   "execution_count": 10,
   "metadata": {},
   "outputs": [],
   "source": [
    "\n",
    "N_Data.to_csv(output_file_path, index=False)"
   ]
  }
 ],
 "metadata": {
  "kernelspec": {
   "display_name": "Python 3",
   "language": "python",
   "name": "python3"
  },
  "language_info": {
   "codemirror_mode": {
    "name": "ipython",
    "version": 3
   },
   "file_extension": ".py",
   "mimetype": "text/x-python",
   "name": "python",
   "nbconvert_exporter": "python",
   "pygments_lexer": "ipython3",
   "version": "3.12.2"
  }
 },
 "nbformat": 4,
 "nbformat_minor": 2
}

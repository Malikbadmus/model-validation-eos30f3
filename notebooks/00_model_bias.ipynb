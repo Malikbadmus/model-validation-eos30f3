{
  "cells": [
    {
      "cell_type": "markdown",
      "metadata": {
        "colab_type": "text",
        "id": "view-in-github"
      },
      "source": [
        "<a href=\"https://colab.research.google.com/github/Malikbadmus/model-validation-eos30gr/blob/main/notebooks/Data_Preprocessing.ipynb\" target=\"_parent\"><img src=\"https://colab.research.google.com/assets/colab-badge.svg\" alt=\"Open In Colab\"/></a>"
      ]
    },
    {
      "cell_type": "markdown",
      "metadata": {
        "id": "aYa_-1MBUFo0"
      },
      "source": [
        "This notebook showcases data cleaning performed on small molecules compounds that have successfully completed all phases of clinical development and have received approval for use. The datasets was sourced from ChEMBL by Malik Badmus as part of Outreachy 2024 Contribution"
      ]
    },
    {
      "cell_type": "markdown",
      "metadata": {},
      "source": [
        "### Data Preprocessing"
      ]
    },
    {
      "cell_type": "code",
      "execution_count": 2,
      "metadata": {
        "id": "whYfKtUTUMnx"
      },
      "outputs": [],
      "source": [
        "import os\n",
        "import sys\n",
        "import pandas as pd\n",
        "# search path for modules \n",
        "sys.path.append(os.path.abspath(\"../src\"))\n",
        "DATAPATH = \"../data\"\n",
        "SRC= \"../src\"\n",
        "\n",
        "#File path\n",
        "input_file_path = os.path.join(DATAPATH, \"Raw\", \"mol_datasets1.csv\")\n",
        "output_file_path = os.path.join(DATAPATH, \"Processed\", \"100_Molecules.csv\")\n",
        "\n",
        "# Reading the CSV file into a pandas DataFrame\n",
        "Data = pd.read_csv(input_file_path, delimiter=';', quotechar='\"')"
      ]
    },
    {
      "cell_type": "code",
      "execution_count": 2,
      "metadata": {},
      "outputs": [
        {
          "data": {
            "text/html": [
              "<div>\n",
              "<style scoped>\n",
              "    .dataframe tbody tr th:only-of-type {\n",
              "        vertical-align: middle;\n",
              "    }\n",
              "\n",
              "    .dataframe tbody tr th {\n",
              "        vertical-align: top;\n",
              "    }\n",
              "\n",
              "    .dataframe thead th {\n",
              "        text-align: right;\n",
              "    }\n",
              "</style>\n",
              "<table border=\"1\" class=\"dataframe\">\n",
              "  <thead>\n",
              "    <tr style=\"text-align: right;\">\n",
              "      <th></th>\n",
              "      <th>ChEMBL ID</th>\n",
              "      <th>Name</th>\n",
              "      <th>Synonyms</th>\n",
              "      <th>Type</th>\n",
              "      <th>Max Phase</th>\n",
              "      <th>Molecular Weight</th>\n",
              "      <th>Targets</th>\n",
              "      <th>Bioactivities</th>\n",
              "      <th>AlogP</th>\n",
              "      <th>Polar Surface Area</th>\n",
              "      <th>...</th>\n",
              "      <th>Heavy Atoms</th>\n",
              "      <th>HBA (Lipinski)</th>\n",
              "      <th>HBD (Lipinski)</th>\n",
              "      <th>#RO5 Violations (Lipinski)</th>\n",
              "      <th>Molecular Weight (Monoisotopic)</th>\n",
              "      <th>Np Likeness Score</th>\n",
              "      <th>Molecular Species</th>\n",
              "      <th>Molecular Formula</th>\n",
              "      <th>Smiles</th>\n",
              "      <th>Inchi Key</th>\n",
              "    </tr>\n",
              "  </thead>\n",
              "  <tbody>\n",
              "    <tr>\n",
              "      <th>0</th>\n",
              "      <td>CHEMBL1868702</td>\n",
              "      <td>GESTRINONE</td>\n",
              "      <td>A 46 745|A-46-745|A-46745|DIMETRIOSE|GESTRINON...</td>\n",
              "      <td>Small molecule</td>\n",
              "      <td>4.0</td>\n",
              "      <td>308.42</td>\n",
              "      <td>19.0</td>\n",
              "      <td>61.0</td>\n",
              "      <td>3.72</td>\n",
              "      <td>37.30</td>\n",
              "      <td>...</td>\n",
              "      <td>23.0</td>\n",
              "      <td>2.0</td>\n",
              "      <td>1.0</td>\n",
              "      <td>0.0</td>\n",
              "      <td>308.1776</td>\n",
              "      <td>1.86</td>\n",
              "      <td>NEUTRAL</td>\n",
              "      <td>C21H24O2</td>\n",
              "      <td>C#C[C@]1(O)CC[C@H]2[C@@H]3CCC4=CC(=O)CCC4=C3C=...</td>\n",
              "      <td>BJJXHLWLUDYTGC-ANULTFPQSA-N</td>\n",
              "    </tr>\n",
              "    <tr>\n",
              "      <th>1</th>\n",
              "      <td>CHEMBL2106076</td>\n",
              "      <td>CEFPIROME SULFATE</td>\n",
              "      <td>CEFPIROME SULFATE|CEFPIROME SULFATE (1:1)|CEFP...</td>\n",
              "      <td>Small molecule</td>\n",
              "      <td>4.0</td>\n",
              "      <td>612.67</td>\n",
              "      <td>1.0</td>\n",
              "      <td>1.0</td>\n",
              "      <td>-1.04</td>\n",
              "      <td>153.92</td>\n",
              "      <td>...</td>\n",
              "      <td>35.0</td>\n",
              "      <td>11.0</td>\n",
              "      <td>3.0</td>\n",
              "      <td>2.0</td>\n",
              "      <td>514.1093</td>\n",
              "      <td>-0.19</td>\n",
              "      <td>ACID</td>\n",
              "      <td>C22H24N6O9S3</td>\n",
              "      <td>CO/N=C(\\C(=O)N[C@@H]1C(=O)N2C(C(=O)[O-])=C(C[n...</td>\n",
              "      <td>RKTNPKZEPLCLSF-QHBKFCFHSA-N</td>\n",
              "    </tr>\n",
              "    <tr>\n",
              "      <th>2</th>\n",
              "      <td>CHEMBL1446650</td>\n",
              "      <td>MEBEVERINE HYDROCHLORIDE</td>\n",
              "      <td>COLOFAC|COLOFAC 100|COLOFAC IBS|COLOFAC MR|CSA...</td>\n",
              "      <td>Small molecule</td>\n",
              "      <td>4.0</td>\n",
              "      <td>466.02</td>\n",
              "      <td>15.0</td>\n",
              "      <td>44.0</td>\n",
              "      <td>4.60</td>\n",
              "      <td>57.23</td>\n",
              "      <td>...</td>\n",
              "      <td>31.0</td>\n",
              "      <td>6.0</td>\n",
              "      <td>0.0</td>\n",
              "      <td>0.0</td>\n",
              "      <td>429.2515</td>\n",
              "      <td>-0.60</td>\n",
              "      <td>BASE</td>\n",
              "      <td>C25H36ClNO5</td>\n",
              "      <td>CCN(CCCCOC(=O)c1ccc(OC)c(OC)c1)C(C)Cc1ccc(OC)c...</td>\n",
              "      <td>PLGQWYOULXPJRE-UHFFFAOYSA-N</td>\n",
              "    </tr>\n",
              "    <tr>\n",
              "      <th>3</th>\n",
              "      <td>CHEMBL3707281</td>\n",
              "      <td>MAGNESIUM LACTATE</td>\n",
              "      <td>ANHYDROUS MAGNESIUM LACTATE, DL-|DL-LACTIC ACI...</td>\n",
              "      <td>Small molecule</td>\n",
              "      <td>4.0</td>\n",
              "      <td>202.44</td>\n",
              "      <td>NaN</td>\n",
              "      <td>NaN</td>\n",
              "      <td>NaN</td>\n",
              "      <td>NaN</td>\n",
              "      <td>...</td>\n",
              "      <td>NaN</td>\n",
              "      <td>NaN</td>\n",
              "      <td>NaN</td>\n",
              "      <td>NaN</td>\n",
              "      <td>202.0328</td>\n",
              "      <td>NaN</td>\n",
              "      <td>NaN</td>\n",
              "      <td>C6H10MgO6</td>\n",
              "      <td>CC(O)C(=O)[O-].CC(O)C(=O)[O-].[Mg+2]</td>\n",
              "      <td>OVGXLJDWSLQDRT-UHFFFAOYSA-L</td>\n",
              "    </tr>\n",
              "    <tr>\n",
              "      <th>4</th>\n",
              "      <td>CHEMBL3833409</td>\n",
              "      <td>HYDROTALCITE</td>\n",
              "      <td>HYDROTALCITE</td>\n",
              "      <td>Small molecule</td>\n",
              "      <td>4.0</td>\n",
              "      <td>531.91</td>\n",
              "      <td>NaN</td>\n",
              "      <td>NaN</td>\n",
              "      <td>NaN</td>\n",
              "      <td>NaN</td>\n",
              "      <td>...</td>\n",
              "      <td>NaN</td>\n",
              "      <td>NaN</td>\n",
              "      <td>NaN</td>\n",
              "      <td>NaN</td>\n",
              "      <td>529.9019</td>\n",
              "      <td>NaN</td>\n",
              "      <td>NaN</td>\n",
              "      <td>CH16Al2Mg6O19</td>\n",
              "      <td>O=C([O-])[O-].[Al+3].[Al+3].[Mg+2].[Mg+2].[Mg+...</td>\n",
              "      <td>GDVKFRBCXAPAQJ-UHFFFAOYSA-A</td>\n",
              "    </tr>\n",
              "  </tbody>\n",
              "</table>\n",
              "<p>5 rows × 33 columns</p>\n",
              "</div>"
            ],
            "text/plain": [
              "       ChEMBL ID                      Name  \\\n",
              "0  CHEMBL1868702                GESTRINONE   \n",
              "1  CHEMBL2106076         CEFPIROME SULFATE   \n",
              "2  CHEMBL1446650  MEBEVERINE HYDROCHLORIDE   \n",
              "3  CHEMBL3707281         MAGNESIUM LACTATE   \n",
              "4  CHEMBL3833409              HYDROTALCITE   \n",
              "\n",
              "                                            Synonyms            Type  \\\n",
              "0  A 46 745|A-46-745|A-46745|DIMETRIOSE|GESTRINON...  Small molecule   \n",
              "1  CEFPIROME SULFATE|CEFPIROME SULFATE (1:1)|CEFP...  Small molecule   \n",
              "2  COLOFAC|COLOFAC 100|COLOFAC IBS|COLOFAC MR|CSA...  Small molecule   \n",
              "3  ANHYDROUS MAGNESIUM LACTATE, DL-|DL-LACTIC ACI...  Small molecule   \n",
              "4                                       HYDROTALCITE  Small molecule   \n",
              "\n",
              "   Max Phase  Molecular Weight  Targets  Bioactivities  AlogP  \\\n",
              "0        4.0            308.42     19.0           61.0   3.72   \n",
              "1        4.0            612.67      1.0            1.0  -1.04   \n",
              "2        4.0            466.02     15.0           44.0   4.60   \n",
              "3        4.0            202.44      NaN            NaN    NaN   \n",
              "4        4.0            531.91      NaN            NaN    NaN   \n",
              "\n",
              "   Polar Surface Area  ...  Heavy Atoms  HBA (Lipinski)  HBD (Lipinski)  \\\n",
              "0               37.30  ...         23.0             2.0             1.0   \n",
              "1              153.92  ...         35.0            11.0             3.0   \n",
              "2               57.23  ...         31.0             6.0             0.0   \n",
              "3                 NaN  ...          NaN             NaN             NaN   \n",
              "4                 NaN  ...          NaN             NaN             NaN   \n",
              "\n",
              "   #RO5 Violations (Lipinski) Molecular Weight (Monoisotopic)  \\\n",
              "0                         0.0                        308.1776   \n",
              "1                         2.0                        514.1093   \n",
              "2                         0.0                        429.2515   \n",
              "3                         NaN                        202.0328   \n",
              "4                         NaN                        529.9019   \n",
              "\n",
              "   Np Likeness Score  Molecular Species  Molecular Formula  \\\n",
              "0               1.86            NEUTRAL           C21H24O2   \n",
              "1              -0.19               ACID       C22H24N6O9S3   \n",
              "2              -0.60               BASE        C25H36ClNO5   \n",
              "3                NaN                NaN          C6H10MgO6   \n",
              "4                NaN                NaN      CH16Al2Mg6O19   \n",
              "\n",
              "                                              Smiles  \\\n",
              "0  C#C[C@]1(O)CC[C@H]2[C@@H]3CCC4=CC(=O)CCC4=C3C=...   \n",
              "1  CO/N=C(\\C(=O)N[C@@H]1C(=O)N2C(C(=O)[O-])=C(C[n...   \n",
              "2  CCN(CCCCOC(=O)c1ccc(OC)c(OC)c1)C(C)Cc1ccc(OC)c...   \n",
              "3               CC(O)C(=O)[O-].CC(O)C(=O)[O-].[Mg+2]   \n",
              "4  O=C([O-])[O-].[Al+3].[Al+3].[Mg+2].[Mg+2].[Mg+...   \n",
              "\n",
              "                     Inchi Key  \n",
              "0  BJJXHLWLUDYTGC-ANULTFPQSA-N  \n",
              "1  RKTNPKZEPLCLSF-QHBKFCFHSA-N  \n",
              "2  PLGQWYOULXPJRE-UHFFFAOYSA-N  \n",
              "3  OVGXLJDWSLQDRT-UHFFFAOYSA-L  \n",
              "4  GDVKFRBCXAPAQJ-UHFFFAOYSA-A  \n",
              "\n",
              "[5 rows x 33 columns]"
            ]
          },
          "execution_count": 2,
          "metadata": {},
          "output_type": "execute_result"
        }
      ],
      "source": [
        "#inspect the Dataframe\n",
        "Data.head()"
      ]
    },
    {
      "cell_type": "code",
      "execution_count": 3,
      "metadata": {},
      "outputs": [
        {
          "name": "stdout",
          "output_type": "stream",
          "text": [
            "<class 'pandas.core.frame.DataFrame'>\n",
            "RangeIndex: 3592 entries, 0 to 3591\n",
            "Data columns (total 33 columns):\n",
            " #   Column                           Non-Null Count  Dtype  \n",
            "---  ------                           --------------  -----  \n",
            " 0   ChEMBL ID                        3592 non-null   object \n",
            " 1   Name                             3592 non-null   object \n",
            " 2   Synonyms                         3538 non-null   object \n",
            " 3   Type                             3592 non-null   object \n",
            " 4   Max Phase                        3592 non-null   float64\n",
            " 5   Molecular Weight                 3522 non-null   float64\n",
            " 6   Targets                          2954 non-null   float64\n",
            " 7   Bioactivities                    2954 non-null   float64\n",
            " 8   AlogP                            3166 non-null   float64\n",
            " 9   Polar Surface Area               3166 non-null   float64\n",
            " 10  HBA                              3166 non-null   float64\n",
            " 11  HBD                              3166 non-null   float64\n",
            " 12  #RO5 Violations                  3166 non-null   float64\n",
            " 13  #Rotatable Bonds                 3166 non-null   float64\n",
            " 14  Passes Ro3                       3166 non-null   object \n",
            " 15  QED Weighted                     3166 non-null   float64\n",
            " 16  CX Acidic pKa                    1877 non-null   float64\n",
            " 17  CX Basic pKa                     2057 non-null   float64\n",
            " 18  CX LogP                          3166 non-null   float64\n",
            " 19  CX LogD                          3166 non-null   float64\n",
            " 20  Aromatic Rings                   3166 non-null   float64\n",
            " 21  Structure Type                   3592 non-null   object \n",
            " 22  Inorganic Flag                   3592 non-null   int64  \n",
            " 23  Heavy Atoms                      3166 non-null   float64\n",
            " 24  HBA (Lipinski)                   3166 non-null   float64\n",
            " 25  HBD (Lipinski)                   3166 non-null   float64\n",
            " 26  #RO5 Violations (Lipinski)       3166 non-null   float64\n",
            " 27  Molecular Weight (Monoisotopic)  3522 non-null   float64\n",
            " 28  Np Likeness Score                3166 non-null   float64\n",
            " 29  Molecular Species                3111 non-null   object \n",
            " 30  Molecular Formula                3522 non-null   object \n",
            " 31  Smiles                           3384 non-null   object \n",
            " 32  Inchi Key                        3384 non-null   object \n",
            "dtypes: float64(22), int64(1), object(10)\n",
            "memory usage: 926.2+ KB\n"
          ]
        }
      ],
      "source": [
        "Data.info()"
      ]
    },
    {
      "cell_type": "markdown",
      "metadata": {},
      "source": [
        "Based on the observations above, our dataframe has 33 column, a substantial amount of extraneous data, contributing to what we can described as \"noise\" in this context.\n",
        "\n",
        "From the example (Notebook1) given we only need one (1) column to run predictions on ersilia, the canonical smile which is a standardized and unique representation of a molecular structure , the canonical smile is derived from the SMILES string contained in the \"Smiles\" column. The InChiKey is provided in the datasets but we can go ahead to standardized it to ensure consistency*\n",
        "\n",
        "Moreover, the Range index of 3,592 records, surpasses the number of molecules we need which is 1000. The Data therefore needs to be cleaned up."
      ]
    },
    {
      "cell_type": "code",
      "execution_count": 4,
      "metadata": {},
      "outputs": [
        {
          "name": "stdout",
          "output_type": "stream",
          "text": [
            "ChEMBL ID                                                              CHEMBL4216467\n",
            "Name                                                                      RIPRETINIB\n",
            "Synonyms                                                 DCC-2618|QINLOCK|RIPRETINIB\n",
            "Type                                                                  Small molecule\n",
            "Max Phase                                                                        4.0\n",
            "Molecular Weight                                                              510.37\n",
            "Targets                                                                          6.0\n",
            "Bioactivities                                                                   22.0\n",
            "AlogP                                                                           5.67\n",
            "Polar Surface Area                                                             88.05\n",
            "HBA                                                                              5.0\n",
            "HBD                                                                              3.0\n",
            "#RO5 Violations                                                                  2.0\n",
            "#Rotatable Bonds                                                                 5.0\n",
            "Passes Ro3                                                                         N\n",
            "QED Weighted                                                                    0.32\n",
            "CX Acidic pKa                                                                  10.34\n",
            "CX Basic pKa                                                                    5.85\n",
            "CX LogP                                                                         4.39\n",
            "CX LogD                                                                         4.38\n",
            "Aromatic Rings                                                                   4.0\n",
            "Structure Type                                                                   MOL\n",
            "Inorganic Flag                                                                     0\n",
            "Heavy Atoms                                                                     33.0\n",
            "HBA (Lipinski)                                                                   7.0\n",
            "HBD (Lipinski)                                                                   3.0\n",
            "#RO5 Violations (Lipinski)                                                       2.0\n",
            "Molecular Weight (Monoisotopic)                                             509.0863\n",
            "Np Likeness Score                                                              -1.53\n",
            "Molecular Species                                                            NEUTRAL\n",
            "Molecular Formula                                                      C24H21BrFN5O2\n",
            "Smiles                             CCn1c(=O)c(-c2cc(NC(=O)Nc3ccccc3)c(F)cc2Br)cc2...\n",
            "Inchi Key                                                CEFJVGZHQAGLHS-UHFFFAOYSA-N\n",
            "Name: 890, dtype: object\n"
          ]
        }
      ],
      "source": [
        "#Additional Verification\n",
        "print(Data.iloc[890])"
      ]
    },
    {
      "cell_type": "code",
      "execution_count": 5,
      "metadata": {},
      "outputs": [
        {
          "name": "stderr",
          "output_type": "stream",
          "text": [
            "[10/03/24 23:27:12 standardiser.standardise WARNING] Running under Windows: must disable use of timeout\n",
            "[23:27:13] WARNING: not removing hydrogen atom without neighbors\n",
            "[23:27:13] WARNING: not removing hydrogen atom without neighbors\n",
            "[23:27:13] WARNING: not removing hydrogen atom without neighbors\n",
            "[23:27:13] WARNING: not removing hydrogen atom without neighbors\n",
            "[10/03/24 23:27:15 standardiser.neutralise WARNING] zwitterion with more negative charges than quaternary positive centres detected\n",
            "[23:27:17] Can't kekulize mol.  Unkekulized atoms: 0 2 4 6 7 9\n",
            "[10/03/24 23:27:20 standardiser.neutralise WARNING] zwitterion with more negative charges than quaternary positive centres detected\n",
            "[10/03/24 23:27:24 standardiser.neutralise WARNING] zwitterion with more negative charges than quaternary positive centres detected\n",
            "[23:27:26] Can't kekulize mol.  Unkekulized atoms: 3 10\n",
            "[10/03/24 23:27:34 standardiser.neutralise WARNING] zwitterion with more negative charges than quaternary positive centres detected\n",
            "[10/03/24 23:27:35 standardiser.neutralise WARNING] zwitterion with more negative charges than quaternary positive centres detected\n",
            "[10/03/24 23:27:35 standardiser.neutralise WARNING] zwitterion with more negative charges than quaternary positive centres detected\n",
            "[10/03/24 23:27:37 standardiser.neutralise WARNING] zwitterion with more negative charges than quaternary positive centres detected\n"
          ]
        },
        {
          "name": "stdout",
          "output_type": "stream",
          "text": [
            "<class 'pandas.core.frame.DataFrame'>\n",
            "Index: 3384 entries, 0 to 3591\n",
            "Data columns (total 3 columns):\n",
            " #   Column            Non-Null Count  Dtype \n",
            "---  ------            --------------  ----- \n",
            " 0   Smiles            3384 non-null   object\n",
            " 1   Inchi Key         3384 non-null   object\n",
            " 2   Canonical_smiles  3102 non-null   object\n",
            "dtypes: object(3)\n",
            "memory usage: 105.8+ KB\n"
          ]
        }
      ],
      "source": [
        "from processing import standardise_smiles, standardise_inchikey\n",
        "\n",
        "new_columns = ['Smiles', 'Inchi Key']\n",
        "N_Data = Data.drop(columns=Data.columns.difference(new_columns)).dropna(subset=['Smiles'])\n",
        "\n",
        "#Standardizing the SMILES string and creating the canonical smiles\n",
        "N_Data['Canonical_smiles'] = standardise_smiles(N_Data['Smiles'])\n",
        "N_Data['Inchi Key'] = standardise_inchikey(N_Data['Inchi Key'])\n",
        "N_Data.info()\n"
      ]
    },
    {
      "cell_type": "markdown",
      "metadata": {},
      "source": [
        "**We can inspect our new Datasets**"
      ]
    },
    {
      "cell_type": "code",
      "execution_count": 6,
      "metadata": {},
      "outputs": [
        {
          "data": {
            "text/html": [
              "<div>\n",
              "<style scoped>\n",
              "    .dataframe tbody tr th:only-of-type {\n",
              "        vertical-align: middle;\n",
              "    }\n",
              "\n",
              "    .dataframe tbody tr th {\n",
              "        vertical-align: top;\n",
              "    }\n",
              "\n",
              "    .dataframe thead th {\n",
              "        text-align: right;\n",
              "    }\n",
              "</style>\n",
              "<table border=\"1\" class=\"dataframe\">\n",
              "  <thead>\n",
              "    <tr style=\"text-align: right;\">\n",
              "      <th></th>\n",
              "      <th>Smiles</th>\n",
              "      <th>Inchi Key</th>\n",
              "      <th>Canonical_smiles</th>\n",
              "    </tr>\n",
              "  </thead>\n",
              "  <tbody>\n",
              "    <tr>\n",
              "      <th>0</th>\n",
              "      <td>C#C[C@]1(O)CC[C@H]2[C@@H]3CCC4=CC(=O)CCC4=C3C=...</td>\n",
              "      <td>BJJXHLWLUDYTGC-ANULTFPQSA-N</td>\n",
              "      <td>C#C[C@]1(O)CC[C@H]2[C@@H]3CCC4=CC(=O)CCC4=C3C=...</td>\n",
              "    </tr>\n",
              "    <tr>\n",
              "      <th>1</th>\n",
              "      <td>CO/N=C(\\C(=O)N[C@@H]1C(=O)N2C(C(=O)[O-])=C(C[n...</td>\n",
              "      <td>RKTNPKZEPLCLSF-QHBKFCFHSA-N</td>\n",
              "      <td>CO/N=C(\\C(=O)N[C@@H]1C(=O)N2C(C(=O)[O-])=C(C[n...</td>\n",
              "    </tr>\n",
              "    <tr>\n",
              "      <th>2</th>\n",
              "      <td>CCN(CCCCOC(=O)c1ccc(OC)c(OC)c1)C(C)Cc1ccc(OC)c...</td>\n",
              "      <td>PLGQWYOULXPJRE-UHFFFAOYSA-N</td>\n",
              "      <td>CCN(CCCCOC(=O)c1ccc(OC)c(OC)c1)C(C)Cc1ccc(OC)cc1</td>\n",
              "    </tr>\n",
              "    <tr>\n",
              "      <th>3</th>\n",
              "      <td>CC(O)C(=O)[O-].CC(O)C(=O)[O-].[Mg+2]</td>\n",
              "      <td>OVGXLJDWSLQDRT-UHFFFAOYSA-L</td>\n",
              "      <td>NaN</td>\n",
              "    </tr>\n",
              "    <tr>\n",
              "      <th>4</th>\n",
              "      <td>O=C([O-])[O-].[Al+3].[Al+3].[Mg+2].[Mg+2].[Mg+...</td>\n",
              "      <td>GDVKFRBCXAPAQJ-UHFFFAOYSA-A</td>\n",
              "      <td>NaN</td>\n",
              "    </tr>\n",
              "  </tbody>\n",
              "</table>\n",
              "</div>"
            ],
            "text/plain": [
              "                                              Smiles  \\\n",
              "0  C#C[C@]1(O)CC[C@H]2[C@@H]3CCC4=CC(=O)CCC4=C3C=...   \n",
              "1  CO/N=C(\\C(=O)N[C@@H]1C(=O)N2C(C(=O)[O-])=C(C[n...   \n",
              "2  CCN(CCCCOC(=O)c1ccc(OC)c(OC)c1)C(C)Cc1ccc(OC)c...   \n",
              "3               CC(O)C(=O)[O-].CC(O)C(=O)[O-].[Mg+2]   \n",
              "4  O=C([O-])[O-].[Al+3].[Al+3].[Mg+2].[Mg+2].[Mg+...   \n",
              "\n",
              "                     Inchi Key  \\\n",
              "0  BJJXHLWLUDYTGC-ANULTFPQSA-N   \n",
              "1  RKTNPKZEPLCLSF-QHBKFCFHSA-N   \n",
              "2  PLGQWYOULXPJRE-UHFFFAOYSA-N   \n",
              "3  OVGXLJDWSLQDRT-UHFFFAOYSA-L   \n",
              "4  GDVKFRBCXAPAQJ-UHFFFAOYSA-A   \n",
              "\n",
              "                                    Canonical_smiles  \n",
              "0  C#C[C@]1(O)CC[C@H]2[C@@H]3CCC4=CC(=O)CCC4=C3C=...  \n",
              "1  CO/N=C(\\C(=O)N[C@@H]1C(=O)N2C(C(=O)[O-])=C(C[n...  \n",
              "2   CCN(CCCCOC(=O)c1ccc(OC)c(OC)c1)C(C)Cc1ccc(OC)cc1  \n",
              "3                                                NaN  \n",
              "4                                                NaN  "
            ]
          },
          "execution_count": 6,
          "metadata": {},
          "output_type": "execute_result"
        }
      ],
      "source": [
        "N_Data.head()"
      ]
    },
    {
      "cell_type": "markdown",
      "metadata": {},
      "source": [
        "From the above, we can see that the RDKit cound not kekulized 282 molecules and thus return null values for Canonical smiles. Our datasets also contains three (3) features, the SMILES string, Standardized smile string and an identifier"
      ]
    },
    {
      "cell_type": "code",
      "execution_count": 9,
      "metadata": {},
      "outputs": [],
      "source": [
        "check_columns = 'Canonical_smiles'  \n",
        "\n",
        "# Drop rows with null values in Smiles, select 1000 molecules\n",
        "Updated_Data = N_Data.dropna(subset=['Canonical_smiles'])\n",
        "New_Data = Updated_Data.sample(n=1000, random_state=42)  \n",
        "\n",
        "New_Data.drop(columns=['Smiles'], inplace=True)\n",
        "New_Data.rename(columns={'Canonical_smiles': 'smiles'}, inplace=True)\n",
        "New_Data.reset_index(drop=True, inplace=True)"
      ]
    },
    {
      "cell_type": "code",
      "execution_count": 10,
      "metadata": {},
      "outputs": [
        {
          "name": "stdout",
          "output_type": "stream",
          "text": [
            "<class 'pandas.core.frame.DataFrame'>\n",
            "RangeIndex: 1000 entries, 0 to 999\n",
            "Data columns (total 2 columns):\n",
            " #   Column     Non-Null Count  Dtype \n",
            "---  ------     --------------  ----- \n",
            " 0   Inchi Key  1000 non-null   object\n",
            " 1   smiles     1000 non-null   object\n",
            "dtypes: object(2)\n",
            "memory usage: 15.8+ KB\n"
          ]
        }
      ],
      "source": [
        "New_Data.info()"
      ]
    },
    {
      "cell_type": "code",
      "execution_count": 11,
      "metadata": {},
      "outputs": [
        {
          "data": {
            "text/html": [
              "<div>\n",
              "<style scoped>\n",
              "    .dataframe tbody tr th:only-of-type {\n",
              "        vertical-align: middle;\n",
              "    }\n",
              "\n",
              "    .dataframe tbody tr th {\n",
              "        vertical-align: top;\n",
              "    }\n",
              "\n",
              "    .dataframe thead th {\n",
              "        text-align: right;\n",
              "    }\n",
              "</style>\n",
              "<table border=\"1\" class=\"dataframe\">\n",
              "  <thead>\n",
              "    <tr style=\"text-align: right;\">\n",
              "      <th></th>\n",
              "      <th>Inchi Key</th>\n",
              "      <th>smiles</th>\n",
              "    </tr>\n",
              "  </thead>\n",
              "  <tbody>\n",
              "    <tr>\n",
              "      <th>0</th>\n",
              "      <td>IPVQLZZIHOAWMC-QXKUPLGCSA-N</td>\n",
              "      <td>CCC[C@H](N[C@@H](C)C(=O)N1[C@H](C(=O)O)C[C@@H]...</td>\n",
              "    </tr>\n",
              "    <tr>\n",
              "      <th>1</th>\n",
              "      <td>GBXSMTUPTTWBMN-XIRDDKMYSA-N</td>\n",
              "      <td>CCOC(=O)[C@H](CCc1ccccc1)N[C@@H](C)C(=O)N1CCC[...</td>\n",
              "    </tr>\n",
              "    <tr>\n",
              "      <th>2</th>\n",
              "      <td>ZIIJJOPLRSCQNX-UHFFFAOYSA-N</td>\n",
              "      <td>CCN(CC)CCN1C(=O)CN=C(c2ccccc2F)c2cc(Cl)ccc21</td>\n",
              "    </tr>\n",
              "    <tr>\n",
              "      <th>3</th>\n",
              "      <td>QZFHIXARHDBPBY-UHFFFAOYSA-N</td>\n",
              "      <td>COC(=O)Nc1c(N)nc(-c2nn(Cc3ccccc3F)c3ncc(F)cc23...</td>\n",
              "    </tr>\n",
              "    <tr>\n",
              "      <th>4</th>\n",
              "      <td>VBHQKCBVWWUUKN-KZNAEPCWSA-N</td>\n",
              "      <td>COc1ccc(CCO[C@@H]2CCCC[C@H]2N2CC[C@@H](O)C2)cc1OC</td>\n",
              "    </tr>\n",
              "  </tbody>\n",
              "</table>\n",
              "</div>"
            ],
            "text/plain": [
              "                     Inchi Key  \\\n",
              "0  IPVQLZZIHOAWMC-QXKUPLGCSA-N   \n",
              "1  GBXSMTUPTTWBMN-XIRDDKMYSA-N   \n",
              "2  ZIIJJOPLRSCQNX-UHFFFAOYSA-N   \n",
              "3  QZFHIXARHDBPBY-UHFFFAOYSA-N   \n",
              "4  VBHQKCBVWWUUKN-KZNAEPCWSA-N   \n",
              "\n",
              "                                              smiles  \n",
              "0  CCC[C@H](N[C@@H](C)C(=O)N1[C@H](C(=O)O)C[C@@H]...  \n",
              "1  CCOC(=O)[C@H](CCc1ccccc1)N[C@@H](C)C(=O)N1CCC[...  \n",
              "2       CCN(CC)CCN1C(=O)CN=C(c2ccccc2F)c2cc(Cl)ccc21  \n",
              "3  COC(=O)Nc1c(N)nc(-c2nn(Cc3ccccc3F)c3ncc(F)cc23...  \n",
              "4  COc1ccc(CCO[C@@H]2CCCC[C@H]2N2CC[C@@H](O)C2)cc1OC  "
            ]
          },
          "execution_count": 11,
          "metadata": {},
          "output_type": "execute_result"
        }
      ],
      "source": [
        "New_Data.head()"
      ]
    },
    {
      "cell_type": "markdown",
      "metadata": {},
      "source": [
        "All the Null values have been dropped and a list of 1000 molecules have been selected for our new datasets. We can go ahead and save our new datasets to /data/Processed in a csv format"
      ]
    },
    {
      "cell_type": "code",
      "execution_count": 12,
      "metadata": {},
      "outputs": [],
      "source": [
        "# Save the DataFrame to a CSV file\n",
        "\n",
        "New_Data.to_csv(output_file_path, index=False)"
      ]
    },
    {
      "cell_type": "markdown",
      "metadata": {},
      "source": [
        "### Getting our predictions on the Processed Dataset\n"
      ]
    },
    {
      "cell_type": "markdown",
      "metadata": {},
      "source": [
        "The model eos30f3 was downloaded and serve via the Ersilia Model Hub on my linux Ubuntu 22.4.0 system, the input file (eos30f3_output.csv) was parsed to it and a predictions for the 1000 molecules was generated, the Model Prediction was saved at /data/Model_prediction in a csv format"
      ]
    },
    {
      "cell_type": "markdown",
      "metadata": {},
      "source": [
        "### Model Bias Evaluation"
      ]
    },
    {
      "cell_type": "code",
      "execution_count": 6,
      "metadata": {},
      "outputs": [],
      "source": [
        "# Load the Model Predictions\n",
        "Model_predictions = pd.read_csv(os.path.join(DATAPATH, \"Model_predictions\", \"eos30f3_output.csv\"))"
      ]
    },
    {
      "cell_type": "markdown",
      "metadata": {},
      "source": [
        "Inspect the DataFrame"
      ]
    },
    {
      "cell_type": "code",
      "execution_count": 7,
      "metadata": {},
      "outputs": [
        {
          "data": {
            "text/html": [
              "<div>\n",
              "<style scoped>\n",
              "    .dataframe tbody tr th:only-of-type {\n",
              "        vertical-align: middle;\n",
              "    }\n",
              "\n",
              "    .dataframe tbody tr th {\n",
              "        vertical-align: top;\n",
              "    }\n",
              "\n",
              "    .dataframe thead th {\n",
              "        text-align: right;\n",
              "    }\n",
              "</style>\n",
              "<table border=\"1\" class=\"dataframe\">\n",
              "  <thead>\n",
              "    <tr style=\"text-align: right;\">\n",
              "      <th></th>\n",
              "      <th>key</th>\n",
              "      <th>input</th>\n",
              "      <th>activity</th>\n",
              "    </tr>\n",
              "  </thead>\n",
              "  <tbody>\n",
              "    <tr>\n",
              "      <th>0</th>\n",
              "      <td>IPVQLZZIHOAWMC-QXKUPLGCSA-N</td>\n",
              "      <td>CCC[C@H](N[C@@H](C)C(=O)N1[C@H](C(=O)O)C[C@@H]...</td>\n",
              "      <td>0.141321</td>\n",
              "    </tr>\n",
              "    <tr>\n",
              "      <th>1</th>\n",
              "      <td>GBXSMTUPTTWBMN-XIRDDKMYSA-N</td>\n",
              "      <td>CCOC(=O)[C@H](CCc1ccccc1)N[C@@H](C)C(=O)N1CCC[...</td>\n",
              "      <td>0.235772</td>\n",
              "    </tr>\n",
              "    <tr>\n",
              "      <th>2</th>\n",
              "      <td>SAADBVWGJQAEFS-UHFFFAOYSA-N</td>\n",
              "      <td>CCN(CC)CCN1C(=O)CN=C(c2ccccc2F)c2cc(Cl)ccc21</td>\n",
              "      <td>0.853313</td>\n",
              "    </tr>\n",
              "    <tr>\n",
              "      <th>3</th>\n",
              "      <td>QZFHIXARHDBPBY-UHFFFAOYSA-N</td>\n",
              "      <td>COC(=O)Nc1c(N)nc(-c2nn(Cc3ccccc3F)c3ncc(F)cc23...</td>\n",
              "      <td>0.225853</td>\n",
              "    </tr>\n",
              "    <tr>\n",
              "      <th>4</th>\n",
              "      <td>VBHQKCBVWWUUKN-KZNAEPCWSA-N</td>\n",
              "      <td>COc1ccc(CCO[C@@H]2CCCC[C@H]2N2CC[C@@H](O)C2)cc1OC</td>\n",
              "      <td>0.836128</td>\n",
              "    </tr>\n",
              "  </tbody>\n",
              "</table>\n",
              "</div>"
            ],
            "text/plain": [
              "                           key  \\\n",
              "0  IPVQLZZIHOAWMC-QXKUPLGCSA-N   \n",
              "1  GBXSMTUPTTWBMN-XIRDDKMYSA-N   \n",
              "2  SAADBVWGJQAEFS-UHFFFAOYSA-N   \n",
              "3  QZFHIXARHDBPBY-UHFFFAOYSA-N   \n",
              "4  VBHQKCBVWWUUKN-KZNAEPCWSA-N   \n",
              "\n",
              "                                               input  activity  \n",
              "0  CCC[C@H](N[C@@H](C)C(=O)N1[C@H](C(=O)O)C[C@@H]...  0.141321  \n",
              "1  CCOC(=O)[C@H](CCc1ccccc1)N[C@@H](C)C(=O)N1CCC[...  0.235772  \n",
              "2       CCN(CC)CCN1C(=O)CN=C(c2ccccc2F)c2cc(Cl)ccc21  0.853313  \n",
              "3  COC(=O)Nc1c(N)nc(-c2nn(Cc3ccccc3F)c3ncc(F)cc23...  0.225853  \n",
              "4  COc1ccc(CCO[C@@H]2CCCC[C@H]2N2CC[C@@H](O)C2)cc1OC  0.836128  "
            ]
          },
          "execution_count": 7,
          "metadata": {},
          "output_type": "execute_result"
        }
      ],
      "source": [
        "Model_predictions.head()"
      ]
    },
    {
      "cell_type": "code",
      "execution_count": 8,
      "metadata": {},
      "outputs": [
        {
          "name": "stdout",
          "output_type": "stream",
          "text": [
            "<class 'pandas.core.frame.DataFrame'>\n",
            "RangeIndex: 1000 entries, 0 to 999\n",
            "Data columns (total 3 columns):\n",
            " #   Column    Non-Null Count  Dtype  \n",
            "---  ------    --------------  -----  \n",
            " 0   key       1000 non-null   object \n",
            " 1   input     1000 non-null   object \n",
            " 2   activity  1000 non-null   float64\n",
            "dtypes: float64(1), object(2)\n",
            "memory usage: 23.6+ KB\n"
          ]
        }
      ],
      "source": [
        "Model_predictions.info()"
      ]
    },
    {
      "cell_type": "markdown",
      "metadata": {},
      "source": [
        "From the above we can deduce that our prediction data contains three (3) features, the identifier inchikey which is now key, input which is our smiles string, and an activity  column which denotes the predicted probability of compound activity, specifically indicating their potential as heRG blockers, with a predefined threshold set at 10uM."
      ]
    },
    {
      "cell_type": "code",
      "execution_count": null,
      "metadata": {},
      "outputs": [],
      "source": []
    },
    {
      "cell_type": "markdown",
      "metadata": {},
      "source": [
        "### "
      ]
    }
  ],
  "metadata": {
    "colab": {
      "authorship_tag": "ABX9TyNsevMIgEh8hRui7dLO2Dke",
      "include_colab_link": true,
      "provenance": []
    },
    "kernelspec": {
      "display_name": "Python 3",
      "name": "python3"
    },
    "language_info": {
      "codemirror_mode": {
        "name": "ipython",
        "version": 3
      },
      "file_extension": ".py",
      "mimetype": "text/x-python",
      "name": "python",
      "nbconvert_exporter": "python",
      "pygments_lexer": "ipython3",
      "version": "3.12.2"
    }
  },
  "nbformat": 4,
  "nbformat_minor": 0
}

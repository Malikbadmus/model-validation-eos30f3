{
  "nbformat": 4,
  "nbformat_minor": 0,
  "metadata": {
    "colab": {
      "provenance": [],
      "authorship_tag": "ABX9TyNsevMIgEh8hRui7dLO2Dke",
      "include_colab_link": true
    },
    "kernelspec": {
      "name": "python3",
      "display_name": "Python 3"
    },
    "language_info": {
      "name": "python"
    }
  },
  "cells": [
    {
      "cell_type": "markdown",
      "metadata": {
        "id": "view-in-github",
        "colab_type": "text"
      },
      "source": [
        "<a href=\"https://colab.research.google.com/github/Malikbadmus/model-validation-eos30gr/blob/main/notebooks/Data_Preprocessing.ipynb\" target=\"_parent\"><img src=\"https://colab.research.google.com/assets/colab-badge.svg\" alt=\"Open In Colab\"/></a>"
      ]
    },
    {
      "cell_type": "markdown",
      "source": [
        "**This notebook contains Data cleaning Done on 1000 compounds that has completed all phases of its clinical development and has been aproved to use sourced from ChEMBL by Malik Badmus as part of Outreachy 2024 Contribution\n",
        "**"
      ],
      "metadata": {
        "id": "aYa_-1MBUFo0"
      }
    },
    {
      "cell_type": "code",
      "source": [],
      "metadata": {
        "id": "whYfKtUTUMnx"
      },
      "execution_count": null,
      "outputs": []
    }
  ]
}